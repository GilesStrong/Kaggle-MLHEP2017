{
 "cells": [
  {
   "cell_type": "markdown",
   "metadata": {},
   "source": [
    "## Import"
   ]
  },
  {
   "cell_type": "markdown",
   "metadata": {},
   "source": [
    "### Import modules"
   ]
  },
  {
   "cell_type": "code",
   "execution_count": 1,
   "metadata": {
    "collapsed": false
   },
   "outputs": [
    {
     "name": "stdout",
     "output_type": "stream",
     "text": [
      "Couldn't import dot_parser, loading of dot files will not be possible.\n"
     ]
    },
    {
     "name": "stderr",
     "output_type": "stream",
     "text": [
      "Using Theano backend.\n"
     ]
    }
   ],
   "source": [
    "from __future__ import division\n",
    "from __future__ import print_function\n",
    "\n",
    "%matplotlib inline\n",
    "\n",
    "import matplotlib.pyplot as plt\n",
    "import numpy as np\n",
    "import pandas\n",
    "import timeit #more accurate than time\n",
    "\n",
    "import theano\n",
    "\n",
    "from sklearn.decomposition import PCA\n",
    "from sklearn.externals import joblib\n",
    "from sklearn.metrics import roc_curve, roc_auc_score\n",
    "from sklearn.model_selection import train_test_split, StratifiedKFold\n",
    "from sklearn.pipeline import Pipeline\n",
    "from sklearn.preprocessing import StandardScaler\n",
    "\n",
    "from scipy.stats import binned_statistic_2d\n",
    "\n",
    "import keras\n",
    "from keras import backend as K\n",
    "from keras.callbacks import EarlyStopping, ModelCheckpoint, Callback\n",
    "from keras.layers import Dense, Activation\n",
    "from keras.models import Sequential, model_from_json, load_model\n",
    "\n",
    "import seaborn as sns\n",
    "sns.set_style(\"white\")\n",
    "import os\n",
    "import json\n",
    "\n",
    "from six.moves import cPickle #Faster than pickle\n",
    "\n",
    "import sys\n",
    "sys.path.append('../modules/')\n",
    "from MPPlot import *\n",
    "from Processors import *"
   ]
  },
  {
   "cell_type": "code",
   "execution_count": 2,
   "metadata": {
    "collapsed": true
   },
   "outputs": [],
   "source": [
    "import importlib\n",
    "\n",
    "def set_keras_backend(backend):\n",
    "    \"\"\"\n",
    "    Changes Keras backend\n",
    "    \n",
    "    Parameters\n",
    "    ----------\n",
    "    backend : str\n",
    "              Backend wanted (theano or tensorflow)\n",
    "              \n",
    "    Returns\n",
    "    -------\n",
    "    \"\"\"\n",
    "    \n",
    "    idm = {\"theano\": \"th\", \"tensorflow\": \"tf\"}\n",
    "    if K.backend() != backend:\n",
    "        os.environ['KERAS_BACKEND'] = backend\n",
    "        importlib.reload(K)\n",
    "        assert K.backend() == backend\n",
    "        keras.backend.set_image_dim_ordering(idm[backend])\n",
    "\n",
    "set_keras_backend(\"theano\")"
   ]
  },
  {
   "cell_type": "markdown",
   "metadata": {},
   "source": [
    "## Import dataTrain"
   ]
  },
  {
   "cell_type": "code",
   "execution_count": 3,
   "metadata": {
    "collapsed": false
   },
   "outputs": [
    {
     "name": "stdout",
     "output_type": "stream",
     "text": [
      "Train Sample contains 162209 signal events and 9649400 background events, 9811609 events total\n",
      "Test sample contains 9789204 events total\n"
     ]
    }
   ],
   "source": [
    "loc = \"../data/\"\n",
    "dataTrain = pandas.read_csv(loc + \"DS_2_train.csv\")\n",
    "dataTest = pandas.read_csv(loc + \"DS_2_test.csv\")\n",
    "sigdataTrain = dataTrain.signal == 1.0\n",
    "bkgdataTrain = dataTrain.signal == 0.0\n",
    "print(\"Train Sample contains {} signal events and {} background events, {} events total\".format(\n",
    "        len(dataTrain[sigdataTrain]), len(dataTrain[bkgdataTrain]), len(dataTrain)))\n",
    "print(\"Test sample contains {} events total\".format(len(dataTest)))"
   ]
  },
  {
   "cell_type": "code",
   "execution_count": 4,
   "metadata": {
    "collapsed": false
   },
   "outputs": [
    {
     "data": {
      "text/html": [
       "<div>\n",
       "<table border=\"1\" class=\"dataframe\">\n",
       "  <thead>\n",
       "    <tr style=\"text-align: right;\">\n",
       "      <th></th>\n",
       "      <th>index</th>\n",
       "      <th>event_id</th>\n",
       "      <th>X</th>\n",
       "      <th>Y</th>\n",
       "      <th>Z</th>\n",
       "      <th>TX</th>\n",
       "      <th>TY</th>\n",
       "      <th>chi2</th>\n",
       "      <th>signal</th>\n",
       "      <th>brick_number</th>\n",
       "    </tr>\n",
       "  </thead>\n",
       "  <tbody>\n",
       "    <tr>\n",
       "      <th>0</th>\n",
       "      <td>0</td>\n",
       "      <td>35130</td>\n",
       "      <td>50550.007812</td>\n",
       "      <td>66924.796875</td>\n",
       "      <td>65943.0</td>\n",
       "      <td>0.639179</td>\n",
       "      <td>-0.086816</td>\n",
       "      <td>0.583319</td>\n",
       "      <td>1.0</td>\n",
       "      <td>53</td>\n",
       "    </tr>\n",
       "    <tr>\n",
       "      <th>1</th>\n",
       "      <td>1</td>\n",
       "      <td>-999</td>\n",
       "      <td>48811.390625</td>\n",
       "      <td>65584.648438</td>\n",
       "      <td>12930.0</td>\n",
       "      <td>0.569996</td>\n",
       "      <td>0.294196</td>\n",
       "      <td>1.582101</td>\n",
       "      <td>0.0</td>\n",
       "      <td>49</td>\n",
       "    </tr>\n",
       "    <tr>\n",
       "      <th>2</th>\n",
       "      <td>2</td>\n",
       "      <td>-999</td>\n",
       "      <td>30120.525391</td>\n",
       "      <td>28329.425781</td>\n",
       "      <td>21981.0</td>\n",
       "      <td>-0.366648</td>\n",
       "      <td>-0.379520</td>\n",
       "      <td>1.292502</td>\n",
       "      <td>0.0</td>\n",
       "      <td>39</td>\n",
       "    </tr>\n",
       "    <tr>\n",
       "      <th>3</th>\n",
       "      <td>3</td>\n",
       "      <td>-999</td>\n",
       "      <td>67186.773438</td>\n",
       "      <td>23033.931641</td>\n",
       "      <td>68529.0</td>\n",
       "      <td>-0.434561</td>\n",
       "      <td>0.502130</td>\n",
       "      <td>2.832125</td>\n",
       "      <td>0.0</td>\n",
       "      <td>65</td>\n",
       "    </tr>\n",
       "    <tr>\n",
       "      <th>4</th>\n",
       "      <td>4</td>\n",
       "      <td>-999</td>\n",
       "      <td>64832.343750</td>\n",
       "      <td>64279.328125</td>\n",
       "      <td>7758.0</td>\n",
       "      <td>0.139993</td>\n",
       "      <td>-0.417299</td>\n",
       "      <td>2.959314</td>\n",
       "      <td>0.0</td>\n",
       "      <td>13</td>\n",
       "    </tr>\n",
       "  </tbody>\n",
       "</table>\n",
       "</div>"
      ],
      "text/plain": [
       "   index  event_id             X             Y        Z        TX        TY  \\\n",
       "0      0     35130  50550.007812  66924.796875  65943.0  0.639179 -0.086816   \n",
       "1      1      -999  48811.390625  65584.648438  12930.0  0.569996  0.294196   \n",
       "2      2      -999  30120.525391  28329.425781  21981.0 -0.366648 -0.379520   \n",
       "3      3      -999  67186.773438  23033.931641  68529.0 -0.434561  0.502130   \n",
       "4      4      -999  64832.343750  64279.328125   7758.0  0.139993 -0.417299   \n",
       "\n",
       "       chi2  signal  brick_number  \n",
       "0  0.583319     1.0            53  \n",
       "1  1.582101     0.0            49  \n",
       "2  1.292502     0.0            39  \n",
       "3  2.832125     0.0            65  \n",
       "4  2.959314     0.0            13  "
      ]
     },
     "execution_count": 4,
     "metadata": {},
     "output_type": "execute_result"
    }
   ],
   "source": [
    "dataTrain.head()"
   ]
  },
  {
   "cell_type": "markdown",
   "metadata": {},
   "source": [
    "### Feature sets"
   ]
  },
  {
   "cell_type": "code",
   "execution_count": 5,
   "metadata": {
    "collapsed": true
   },
   "outputs": [],
   "source": [
    "trainFeatures = ['X', 'Y', 'Z', 'TX', 'TY', 'chi2']"
   ]
  },
  {
   "cell_type": "code",
   "execution_count": 6,
   "metadata": {
    "collapsed": true
   },
   "outputs": [],
   "source": [
    "set0 = ['X', 'Y', 'Z', 'TX', 'TY', 'chi2']"
   ]
  },
  {
   "cell_type": "code",
   "execution_count": 8,
   "metadata": {
    "collapsed": false,
    "scrolled": false
   },
   "outputs": [
    {
     "name": "stdout",
     "output_type": "stream",
     "text": [
      "Training on 6 features ['X', 'Y', 'Z', 'TX', 'TY', 'chi2']\n"
     ]
    }
   ],
   "source": [
    "classTrainFeatures = set0 #The features used\n",
    "varSet = \"set0\" #Name of the feature set used, mainly for saving results\n",
    "normIn = True #Whether we want to normalise and standardise the inputs\n",
    "pca = True #Whether we want to use principal-component analysis to decorrelate inputs\n",
    "normPCA = True #Whether we want to normalise and standardise the inputs after PCA\n",
    "whiten = False #Whether we want to whiten input dataTrain\n",
    "print(\"Training on {} features {}\". format(len(classTrainFeatures),[var for var in classTrainFeatures]))"
   ]
  },
  {
   "cell_type": "markdown",
   "metadata": {},
   "source": [
    "## Plot Initial Distributions"
   ]
  },
  {
   "cell_type": "code",
   "execution_count": null,
   "metadata": {
    "collapsed": false,
    "scrolled": false
   },
   "outputs": [
    {
     "data": {
      "image/png": "[encoded data removed]",
      "text/plain": [
       "<matplotlib.figure.Figure at 0x7fb02c9d7f10>"
      ]
     },
     "metadata": {},
     "output_type": "display_data"
    }
   ],
   "source": [
    "params = {'hist' : True, 'kde' : True, 'norm_hist' : True}\n",
    "for feat in trainFeatures:\n",
    "    plt.figure(figsize=(16, 8))\n",
    "    sns.distplot(dataTrain[bkgdataTrain][feat], label='Background', **params)\n",
    "    sns.distplot(dataTrain[sigdataTrain][feat], label='Signal', **params)\n",
    "    plt.legend(loc='best', fontsize=16)\n",
    "    plt.xlabel(feat, fontsize=24, color='black')\n",
    "    plt.ylabel(\"PDF\", fontsize=24, color='black')\n",
    "    #plt.yscale('log', nonposy='clip')\n",
    "    plt.show()"
   ]
  },
  {
   "cell_type": "markdown",
   "metadata": {},
   "source": [
    "## Pre-process dataTrain"
   ]
  },
  {
   "cell_type": "markdown",
   "metadata": {},
   "source": [
    "Here we define a SK-Learn pipeline which will contain transformation steps for any dataTrain fed in. Pipelines are a nice, compact way of handing dataTrain transformations."
   ]
  },
  {
   "cell_type": "code",
   "execution_count": null,
   "metadata": {
    "collapsed": true
   },
   "outputs": [],
   "source": [
    "stepsIn = []\n",
    "if not normIn and not pca:\n",
    "    stepsIn.append(('ident', StandardScaler(with_mean=False, with_std=False))) #For compatability\n",
    "else:\n",
    "    if normIn:\n",
    "        stepsIn.append(('normIn', StandardScaler()))\n",
    "    if pca:\n",
    "        stepsIn.append(('pca', PCA(whiten=whiten)))\n",
    "        if normPCA:\n",
    "            stepsIn.append(('normPCA', StandardScaler()))\n",
    "inputPipe = Pipeline(stepsIn)\n",
    "stepsOut = []"
   ]
  },
  {
   "cell_type": "markdown",
   "metadata": {},
   "source": [
    "Next we fit the pipeline to the **development** dataTrain inputs. For compactness we also transform the development dataTrain and create Numpy arrays of the inputs and targets. **N.B.** The type of the inputs will normally be either float32 or float64. float32 is preferred, since speed and memory outweighs precision. Sometimes if the dataTrain is naturally in float64, the conversion to float32 can can result in NaNs or infs, so watch out."
   ]
  },
  {
   "cell_type": "code",
   "execution_count": null,
   "metadata": {
    "collapsed": false
   },
   "outputs": [],
   "source": [
    "inputPipe.fit(dataTrain[sigdataTrain][classTrainFeatures].values.astype('float32'))\n",
    "signal = inputPipe.transform(dataTrain[sigdataTrain][classTrainFeatures].values.astype('float32'))\n",
    "background = inputPipe.transform(dataTrain[bkgdataTrain][classTrainFeatures].values.astype('float32'))"
   ]
  },
  {
   "cell_type": "markdown",
   "metadata": {},
   "source": [
    "## Plot pre-processed Distributions"
   ]
  },
  {
   "cell_type": "code",
   "execution_count": null,
   "metadata": {
    "collapsed": false,
    "scrolled": false
   },
   "outputs": [],
   "source": [
    "params = {'hist' : True, 'kde' : True, 'norm_hist' : True}\n",
    "for i in range(len(signal[0])):\n",
    "    plt.figure(figsize=(16, 8))\n",
    "    sns.distplot(background[:,i], label='Background', **params)\n",
    "    sns.distplot(signal[:,i], label='Signal', **params)\n",
    "    plt.legend(loc='best', fontsize=16)\n",
    "    plt.xlabel(i, fontsize=24, color='black')\n",
    "    plt.ylabel(\"PDF\", fontsize=24, color='black')\n",
    "    plt.show()"
   ]
  },
  {
   "cell_type": "markdown",
   "metadata": {
    "collapsed": true
   },
   "source": [
    "## Compare Train to Test"
   ]
  },
  {
   "cell_type": "markdown",
   "metadata": {},
   "source": [
    "### Initial"
   ]
  },
  {
   "cell_type": "code",
   "execution_count": null,
   "metadata": {
    "collapsed": false,
    "scrolled": false
   },
   "outputs": [],
   "source": [
    "params = {'hist' : True, 'kde' : True, 'norm_hist' : True}\n",
    "for feat in trainFeatures:\n",
    "    plt.figure(figsize=(16, 8))\n",
    "    sns.distplot(dataTrain[feat], label='Train', **params)\n",
    "    sns.distplot(dataTest[feat], label='Test', **params)\n",
    "    plt.legend(loc='best', fontsize=16)\n",
    "    plt.xlabel(feat, fontsize=24, color='black')\n",
    "    plt.ylabel(\"PDF\", fontsize=24, color='black')\n",
    "    plt.show()"
   ]
  },
  {
   "cell_type": "markdown",
   "metadata": {},
   "source": [
    "### Pre-processed"
   ]
  },
  {
   "cell_type": "code",
   "execution_count": null,
   "metadata": {
    "collapsed": false
   },
   "outputs": [],
   "source": [
    "train = inputPipe.transform(dataTrain[classTrainFeatures].values.astype('float32'))\n",
    "test = inputPipe.transform(dataTest[classTrainFeatures].values.astype('float32'))"
   ]
  },
  {
   "cell_type": "code",
   "execution_count": null,
   "metadata": {
    "collapsed": false,
    "scrolled": false
   },
   "outputs": [],
   "source": [
    "params = {'hist' : True, 'kde' : True, 'norm_hist' : True}\n",
    "for i in range(len(signal[0])):\n",
    "    plt.figure(figsize=(16, 8))\n",
    "    sns.distplot(train[:,i], label='Train', **params)\n",
    "    sns.distplot(test[:,i], label='Test', **params)\n",
    "    plt.legend(loc='best', fontsize=16)\n",
    "    plt.xlabel(i, fontsize=24, color='black')\n",
    "    plt.ylabel(\"PDF\", fontsize=24, color='black')\n",
    "    plt.show()"
   ]
  },
  {
   "cell_type": "markdown",
   "metadata": {
    "collapsed": true
   },
   "source": [
    "## Reweight test"
   ]
  },
  {
   "cell_type": "code",
   "execution_count": null,
   "metadata": {
    "collapsed": false
   },
   "outputs": [],
   "source": [
    "signalXY = binned_statistic_2d(dataTrain.ix[sigdataTrain, 'X'].values,\n",
    "                                  dataTrain.ix[sigdataTrain, 'Y'].values,\n",
    "                                  dataTrain.ix[sigdataTrain, 'Y'].values,\n",
    "                                  statistic='count', expand_binnumbers=True,\n",
    "                                  range=((np.min(dataTrain.ix[:, 'X'].values),\n",
    "                                          np.max(dataTrain.ix[:, 'X'].values)),\n",
    "                                         (np.min(dataTrain.ix[:, 'Y'].values),\n",
    "                                          np.max(dataTrain.ix[:, 'Y'].values))),\n",
    "                                  bins=(50, 50))\n",
    "bkgXY = binned_statistic_2d(dataTrain.ix[bkgdataTrain, 'X'].values,\n",
    "                                  dataTrain.ix[bkgdataTrain, 'Y'].values,\n",
    "                                  dataTrain.ix[bkgdataTrain, 'Y'].values,\n",
    "                                  statistic='count', expand_binnumbers=True,\n",
    "                                  range=((np.min(dataTrain.ix[:, 'X'].values),\n",
    "                                          np.max(dataTrain.ix[:, 'X'].values)),\n",
    "                                         (np.min(dataTrain.ix[:, 'Y'].values),\n",
    "                                          np.max(dataTrain.ix[:, 'Y'].values))),\n",
    "                                  bins=(50, 50))"
   ]
  },
  {
   "cell_type": "code",
   "execution_count": null,
   "metadata": {
    "collapsed": true
   },
   "outputs": [],
   "source": [
    "dataTrain.ix[sigdataTrain, 'weight'] = 1/signalXY.statistic[signalXY.binnumber[0]-1, signalXY.binnumber[1]-1]\n",
    "dataTrain.ix[bkgdataTrain, 'weight'] = 1/bkgXY.statistic[bkgXY.binnumber[0]-1, bkgXY.binnumber[1]-1]\n",
    "dataTrain.ix[sigdataTrain, 'weight'] = dataTrain.ix[sigdataTrain, 'weight']/np.sum(dataTrain.ix[sigdataTrain, 'weight'])\n",
    "dataTrain.ix[bkgdataTrain, 'weight'] = dataTrain.ix[bkgdataTrain, 'weight']/np.sum(dataTrain.ix[bkgdataTrain, 'weight'])"
   ]
  },
  {
   "cell_type": "code",
   "execution_count": null,
   "metadata": {
    "collapsed": false
   },
   "outputs": [],
   "source": [
    "hist_params = {'normed': False, 'bins': (50,50), 'alpha': 1, \n",
    "               'range': ((np.min(dataTrain.ix[:, 'X'].values),\n",
    "                                          np.max(dataTrain.ix[:, 'X'].values)),\n",
    "                                         (np.min(dataTrain.ix[:, 'Y'].values),\n",
    "                                          np.max(dataTrain.ix[:, 'Y'].values)))}\n",
    "f, ((ax1, ax2), (ax3, ax4)) = plt.subplots(2, 2, sharex='col', sharey='row')\n",
    "ax1.hist2d(dataTrain.ix[sigdataTrain,'X'].values, dataTrain.ix[sigdataTrain,'Y'].values,\n",
    "           weights=np.ones_like(dataTrain.ix[sigdataTrain,'weight'].values)/len(dataTrain.ix[sigdataTrain]), **hist_params)\n",
    "ax1.set_title(\"Unweighted Signal\")\n",
    "ax2.hist2d(dataTrain.ix[sigdataTrain,'X'].values, dataTrain.ix[sigdataTrain,'Y'].values,\n",
    "           weights=dataTrain.ix[sigdataTrain,'weight'].values, **hist_params)\n",
    "ax2.set_title(\"Weighted Signal\")\n",
    "ax3.hist2d(dataTrain.ix[bkgdataTrain,'X'].values, dataTrain.ix[bkgdataTrain,'Y'].values,\n",
    "           weights=np.ones_like(dataTrain.ix[bkgdataTrain,'weight'].values)/len(dataTrain.ix[sigdataTrain]), **hist_params)\n",
    "ax3.set_title(\"Unweighted Background\")\n",
    "ax4.hist2d(dataTrain.ix[bkgdataTrain,'X'].values, dataTrain.ix[bkgdataTrain,'Y'].values,\n",
    "           weights=dataTrain.ix[bkgdataTrain,'weight'].values, **hist_params)\n",
    "ax4.set_title(\"Weighted Background\")\n",
    "plt.show()"
   ]
  },
  {
   "cell_type": "code",
   "execution_count": null,
   "metadata": {
    "collapsed": true
   },
   "outputs": [],
   "source": []
  }
 ],
 "metadata": {
  "kernelspec": {
   "display_name": "Python 2",
   "language": "python",
   "name": "python2"
  },
  "language_info": {
   "codemirror_mode": {
    "name": "ipython",
    "version": 2
   },
   "file_extension": ".py",
   "mimetype": "text/x-python",
   "name": "python",
   "nbconvert_exporter": "python",
   "pygments_lexer": "ipython2",
   "version": "2.7.11"
  }
 },
 "nbformat": 4,
 "nbformat_minor": 1
}
